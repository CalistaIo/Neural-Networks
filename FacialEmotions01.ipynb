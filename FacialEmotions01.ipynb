{
 "cells": [
  {
   "cell_type": "code",
   "execution_count": null,
   "metadata": {},
   "outputs": [],
   "source": [
    "import tensorflow as tf\n",
    "from keras.preprocessing.image import ImageDataGenerator\n",
    "from keras.layers import Dropout"
   ]
  },
  {
   "cell_type": "code",
   "execution_count": null,
   "metadata": {},
   "outputs": [],
   "source": [
    "# Data preprocessing\n",
    "\n",
    "# Preprocess training set\n",
    "# Perform image augmentation to prevent overfitting\n",
    "train_datagen = ImageDataGenerator(rescale=1./255, # rescale performs feature scaling\n",
    "                                  shear_range=0.2,\n",
    "                                  zoom_range=0.2,\n",
    "                                  horizontal_flip=True)\n",
    "# Connect to training set\n",
    "# Convolutional neural network is trained and tested on batches of images\n",
    "training_set = train_datagen.flow_from_directory('../data/train',\n",
    "                                                   target_size=(64, 64),\n",
    "                                                   batch_size=32, # number of images in each batch\n",
    "                                                   class_mode='categorical') # class_mode is either binary or categorical\n",
    "\n",
    "test_datagen = ImageDataGenerator(rescale=1./255)\n",
    "\n",
    "# Connect to test set\n",
    "test_set = test_datagen.flow_from_directory('../data/test',\n",
    "                                           target_size=(64, 64), # must be same format as training data\n",
    "                                           batch_size=32,\n",
    "                                           class_mode='categorical')"
   ]
  },
  {
   "cell_type": "code",
   "execution_count": null,
   "metadata": {},
   "outputs": [],
   "source": [
    "# Create convolutional neural network as sequence of layers\n",
    "cnn = tf.keras.models.Sequential()\n",
    "\n",
    "# Conv block 1\n",
    "cnn.add(tf.keras.layers.Conv2D(filters=32, kernel_size=3, activation='relu', input_shape=[224, 224, 3], padding='same'))\n",
    "cnn.add(tf.keras.layers.MaxPool2D(pool_size=2, strides=(2, 2)))\n",
    "\n",
    "# Conv block 2\n",
    "cnn.add(tf.keras.layers.Conv2D(filters=32, kernel_size=3, activation='relu', input_shape=[112, 112, 3], padding='same'))\n",
    "cnn.add(tf.keras.layers.MaxPool2D(pool_size=2, strides=(2, 2)))\n",
    "\n",
    "# Conv block 3\n",
    "cnn.add(tf.keras.layers.Conv2D(filters=64, kernel_size=3, activation='relu', input_shape=[56, 56, 3], padding='same'))\n",
    "cnn.add(tf.keras.layers.MaxPool2D(pool_size=2, strides=(2, 2)))\n",
    "\n",
    "# Flattening\n",
    "cnn.add(tf.keras.layers.Flatten())\n",
    "\n",
    "# Full connection\n",
    "cnn.add(tf.keras.layers.Dense(units=128, activation='relu'))\n",
    "cnn.add(Dropout(rate = 0.5))\n",
    "cnn.add(tf.keras.layers.Dense(units=7, activation='softmax'))"
   ]
  },
  {
   "cell_type": "code",
   "execution_count": null,
   "metadata": {},
   "outputs": [],
   "source": [
    "# Compile CNN\n",
    "cnn.compile(optimizer='adam', loss='categorical_crossentropy', metrics=['accuracy'])"
   ]
  },
  {
   "cell_type": "code",
   "execution_count": null,
   "metadata": {},
   "outputs": [],
   "source": [
    "# Train CNN\n",
    "cnn.fit(x=training_set, validation_data=test_set, epochs=200)"
   ]
  },
  {
   "cell_type": "code",
   "execution_count": null,
   "metadata": {},
   "outputs": [],
   "source": []
  }
 ],
 "metadata": {
  "kernelspec": {
   "display_name": "Python 3",
   "language": "python",
   "name": "python3"
  },
  "language_info": {
   "codemirror_mode": {
    "name": "ipython",
    "version": 3
   },
   "file_extension": ".py",
   "mimetype": "text/x-python",
   "name": "python",
   "nbconvert_exporter": "python",
   "pygments_lexer": "ipython3",
   "version": "3.7.9"
  }
 },
 "nbformat": 4,
 "nbformat_minor": 4
}
